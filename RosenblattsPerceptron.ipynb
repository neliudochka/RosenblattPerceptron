{
  "nbformat": 4,
  "nbformat_minor": 0,
  "metadata": {
    "colab": {
      "provenance": [],
      "authorship_tag": "ABX9TyOcXptxNPZXgTPayISsHcat",
      "include_colab_link": true
    },
    "kernelspec": {
      "name": "python3",
      "display_name": "Python 3"
    },
    "language_info": {
      "name": "python"
    }
  },
  "cells": [
    {
      "cell_type": "markdown",
      "metadata": {
        "id": "view-in-github",
        "colab_type": "text"
      },
      "source": [
        "<a href=\"https://colab.research.google.com/github/neliudochka/RosenblattPerceptron/blob/main/RosenblattsPerceptron.ipynb\" target=\"_parent\"><img src=\"https://colab.research.google.com/assets/colab-badge.svg\" alt=\"Open In Colab\"/></a>"
      ]
    },
    {
      "cell_type": "markdown",
      "source": [
        "# ML 2A\n",
        "## Rosenblatt’s perceptron\n"
      ],
      "metadata": {
        "id": "u7gnG5x31vP1"
      }
    },
    {
      "cell_type": "markdown",
      "source": [
        "1. Implement a single-layer perceptron using such programming languages as Python, C++."
      ],
      "metadata": {
        "id": "JllT-37R3g3i"
      }
    },
    {
      "cell_type": "code",
      "source": [
        "from random import random\n",
        "\n",
        "# Make a prediction with weights\n",
        "def predict(X, weights):\n",
        "  # act = bias + ...\n",
        "  activation = weights[0]\n",
        "  # ... + w1*x1 + w2*x2 + ... + wn*xn\n",
        "  for i in range(len(X)):\n",
        "    activation += weights[i + 1] * X[i]\n",
        "  if activation >= 0.0:\n",
        "    return 1.0\n",
        "  return 0\n",
        "\n",
        "# Estimate Perceptron weights using stochastic gradient descent\n",
        "def train_weights(trainX, trainY, learningRate, nEpoch):\n",
        "  # define weights randomly\n",
        "  #weights = [0.0 for i in range(len(train[0]))]\n",
        "  weights = [random() for i in range(len(trainX[0])+1)]\n",
        "  # print(weights)\n",
        "  for epoch in range(nEpoch):\n",
        "    j = 0\n",
        "    for X in trainX:\n",
        "      # predict output with current weight\n",
        "      prediction = predict(X, weights)\n",
        "      # actual - predicted\n",
        "      error = trainY[j] - prediction\n",
        "      # w0'=w0+lR*error\n",
        "      weights[0] = weights[0] + learningRate * error\n",
        "      j += 1\n",
        "      for i in range(len(X)):\n",
        "        # w'=w+lR*error*x\n",
        "        weights[i + 1] = weights[i + 1] + learningRate * error * X[i]\n",
        "      #print('>epoch=%d, actual=%d, expected=%d' % (epoch, row[-1], prediction))\n",
        "  return weights\n",
        "\n",
        "def perceptrone(trainX, trainY, testX, learningRate, nEpoch):\n",
        "  weights = train_weights(trainX, trainY, learningRate, nEpoch)\n",
        "  predictedY = list()\n",
        "  for X in testX:\n",
        "    predictedY.append(predict(X, weights))\n",
        "  return predictedY, weights\n"
      ],
      "metadata": {
        "id": "F1NGMFa63j7v"
      },
      "execution_count": 18,
      "outputs": []
    },
    {
      "cell_type": "markdown",
      "source": [
        "**2. Train a neural network on a training sample using the Rosenblatt algorithm (training and test samples must be randomly formed (in the ratio of 70:30).**\n",
        "\n",
        "**3. Check the operation of the perceptron on test data.**"
      ],
      "metadata": {
        "id": "V38cw8ka8rnM"
      }
    },
    {
      "cell_type": "code",
      "source": [
        "#import module for data analysis\n",
        "import pandas as pd\n",
        "url='https://raw.githubusercontent.com/neliudochka/RosenblattPerceptron/main/data11.csv'\n",
        "\n",
        "x1 = 'x1'\n",
        "x2 = 'x2'\n",
        "y = 'y'\n",
        "\n",
        "data = pd.read_csv(url, header=0, names=[x1, x2, y])\n",
        "data.head(2)"
      ],
      "metadata": {
        "colab": {
          "base_uri": "https://localhost:8080/",
          "height": 112
        },
        "id": "mYCbDXKFSVHF",
        "outputId": "968761a0-8764-42aa-dd2a-23842c52ae61"
      },
      "execution_count": 19,
      "outputs": [
        {
          "output_type": "execute_result",
          "data": {
            "text/plain": [
              "      x1     x2  y\n",
              "0  0.134  0.460  0\n",
              "1  0.724  0.527  1"
            ],
            "text/html": [
              "\n",
              "  <div id=\"df-2f265f7e-f001-4161-ba93-2daf82cadd37\" class=\"colab-df-container\">\n",
              "    <div>\n",
              "<style scoped>\n",
              "    .dataframe tbody tr th:only-of-type {\n",
              "        vertical-align: middle;\n",
              "    }\n",
              "\n",
              "    .dataframe tbody tr th {\n",
              "        vertical-align: top;\n",
              "    }\n",
              "\n",
              "    .dataframe thead th {\n",
              "        text-align: right;\n",
              "    }\n",
              "</style>\n",
              "<table border=\"1\" class=\"dataframe\">\n",
              "  <thead>\n",
              "    <tr style=\"text-align: right;\">\n",
              "      <th></th>\n",
              "      <th>x1</th>\n",
              "      <th>x2</th>\n",
              "      <th>y</th>\n",
              "    </tr>\n",
              "  </thead>\n",
              "  <tbody>\n",
              "    <tr>\n",
              "      <th>0</th>\n",
              "      <td>0.134</td>\n",
              "      <td>0.460</td>\n",
              "      <td>0</td>\n",
              "    </tr>\n",
              "    <tr>\n",
              "      <th>1</th>\n",
              "      <td>0.724</td>\n",
              "      <td>0.527</td>\n",
              "      <td>1</td>\n",
              "    </tr>\n",
              "  </tbody>\n",
              "</table>\n",
              "</div>\n",
              "    <div class=\"colab-df-buttons\">\n",
              "\n",
              "  <div class=\"colab-df-container\">\n",
              "    <button class=\"colab-df-convert\" onclick=\"convertToInteractive('df-2f265f7e-f001-4161-ba93-2daf82cadd37')\"\n",
              "            title=\"Convert this dataframe to an interactive table.\"\n",
              "            style=\"display:none;\">\n",
              "\n",
              "  <svg xmlns=\"http://www.w3.org/2000/svg\" height=\"24px\" viewBox=\"0 -960 960 960\">\n",
              "    <path d=\"M120-120v-720h720v720H120Zm60-500h600v-160H180v160Zm220 220h160v-160H400v160Zm0 220h160v-160H400v160ZM180-400h160v-160H180v160Zm440 0h160v-160H620v160ZM180-180h160v-160H180v160Zm440 0h160v-160H620v160Z\"/>\n",
              "  </svg>\n",
              "    </button>\n",
              "\n",
              "  <style>\n",
              "    .colab-df-container {\n",
              "      display:flex;\n",
              "      gap: 12px;\n",
              "    }\n",
              "\n",
              "    .colab-df-convert {\n",
              "      background-color: #E8F0FE;\n",
              "      border: none;\n",
              "      border-radius: 50%;\n",
              "      cursor: pointer;\n",
              "      display: none;\n",
              "      fill: #1967D2;\n",
              "      height: 32px;\n",
              "      padding: 0 0 0 0;\n",
              "      width: 32px;\n",
              "    }\n",
              "\n",
              "    .colab-df-convert:hover {\n",
              "      background-color: #E2EBFA;\n",
              "      box-shadow: 0px 1px 2px rgba(60, 64, 67, 0.3), 0px 1px 3px 1px rgba(60, 64, 67, 0.15);\n",
              "      fill: #174EA6;\n",
              "    }\n",
              "\n",
              "    .colab-df-buttons div {\n",
              "      margin-bottom: 4px;\n",
              "    }\n",
              "\n",
              "    [theme=dark] .colab-df-convert {\n",
              "      background-color: #3B4455;\n",
              "      fill: #D2E3FC;\n",
              "    }\n",
              "\n",
              "    [theme=dark] .colab-df-convert:hover {\n",
              "      background-color: #434B5C;\n",
              "      box-shadow: 0px 1px 3px 1px rgba(0, 0, 0, 0.15);\n",
              "      filter: drop-shadow(0px 1px 2px rgba(0, 0, 0, 0.3));\n",
              "      fill: #FFFFFF;\n",
              "    }\n",
              "  </style>\n",
              "\n",
              "    <script>\n",
              "      const buttonEl =\n",
              "        document.querySelector('#df-2f265f7e-f001-4161-ba93-2daf82cadd37 button.colab-df-convert');\n",
              "      buttonEl.style.display =\n",
              "        google.colab.kernel.accessAllowed ? 'block' : 'none';\n",
              "\n",
              "      async function convertToInteractive(key) {\n",
              "        const element = document.querySelector('#df-2f265f7e-f001-4161-ba93-2daf82cadd37');\n",
              "        const dataTable =\n",
              "          await google.colab.kernel.invokeFunction('convertToInteractive',\n",
              "                                                    [key], {});\n",
              "        if (!dataTable) return;\n",
              "\n",
              "        const docLinkHtml = 'Like what you see? Visit the ' +\n",
              "          '<a target=\"_blank\" href=https://colab.research.google.com/notebooks/data_table.ipynb>data table notebook</a>'\n",
              "          + ' to learn more about interactive tables.';\n",
              "        element.innerHTML = '';\n",
              "        dataTable['output_type'] = 'display_data';\n",
              "        await google.colab.output.renderOutput(dataTable, element);\n",
              "        const docLink = document.createElement('div');\n",
              "        docLink.innerHTML = docLinkHtml;\n",
              "        element.appendChild(docLink);\n",
              "      }\n",
              "    </script>\n",
              "  </div>\n",
              "\n",
              "\n",
              "<div id=\"df-86950b00-3a69-40f6-a192-30c3df4e7d4e\">\n",
              "  <button class=\"colab-df-quickchart\" onclick=\"quickchart('df-86950b00-3a69-40f6-a192-30c3df4e7d4e')\"\n",
              "            title=\"Suggest charts\"\n",
              "            style=\"display:none;\">\n",
              "\n",
              "<svg xmlns=\"http://www.w3.org/2000/svg\" height=\"24px\"viewBox=\"0 0 24 24\"\n",
              "     width=\"24px\">\n",
              "    <g>\n",
              "        <path d=\"M19 3H5c-1.1 0-2 .9-2 2v14c0 1.1.9 2 2 2h14c1.1 0 2-.9 2-2V5c0-1.1-.9-2-2-2zM9 17H7v-7h2v7zm4 0h-2V7h2v10zm4 0h-2v-4h2v4z\"/>\n",
              "    </g>\n",
              "</svg>\n",
              "  </button>\n",
              "\n",
              "<style>\n",
              "  .colab-df-quickchart {\n",
              "      --bg-color: #E8F0FE;\n",
              "      --fill-color: #1967D2;\n",
              "      --hover-bg-color: #E2EBFA;\n",
              "      --hover-fill-color: #174EA6;\n",
              "      --disabled-fill-color: #AAA;\n",
              "      --disabled-bg-color: #DDD;\n",
              "  }\n",
              "\n",
              "  [theme=dark] .colab-df-quickchart {\n",
              "      --bg-color: #3B4455;\n",
              "      --fill-color: #D2E3FC;\n",
              "      --hover-bg-color: #434B5C;\n",
              "      --hover-fill-color: #FFFFFF;\n",
              "      --disabled-bg-color: #3B4455;\n",
              "      --disabled-fill-color: #666;\n",
              "  }\n",
              "\n",
              "  .colab-df-quickchart {\n",
              "    background-color: var(--bg-color);\n",
              "    border: none;\n",
              "    border-radius: 50%;\n",
              "    cursor: pointer;\n",
              "    display: none;\n",
              "    fill: var(--fill-color);\n",
              "    height: 32px;\n",
              "    padding: 0;\n",
              "    width: 32px;\n",
              "  }\n",
              "\n",
              "  .colab-df-quickchart:hover {\n",
              "    background-color: var(--hover-bg-color);\n",
              "    box-shadow: 0 1px 2px rgba(60, 64, 67, 0.3), 0 1px 3px 1px rgba(60, 64, 67, 0.15);\n",
              "    fill: var(--button-hover-fill-color);\n",
              "  }\n",
              "\n",
              "  .colab-df-quickchart-complete:disabled,\n",
              "  .colab-df-quickchart-complete:disabled:hover {\n",
              "    background-color: var(--disabled-bg-color);\n",
              "    fill: var(--disabled-fill-color);\n",
              "    box-shadow: none;\n",
              "  }\n",
              "\n",
              "  .colab-df-spinner {\n",
              "    border: 2px solid var(--fill-color);\n",
              "    border-color: transparent;\n",
              "    border-bottom-color: var(--fill-color);\n",
              "    animation:\n",
              "      spin 1s steps(1) infinite;\n",
              "  }\n",
              "\n",
              "  @keyframes spin {\n",
              "    0% {\n",
              "      border-color: transparent;\n",
              "      border-bottom-color: var(--fill-color);\n",
              "      border-left-color: var(--fill-color);\n",
              "    }\n",
              "    20% {\n",
              "      border-color: transparent;\n",
              "      border-left-color: var(--fill-color);\n",
              "      border-top-color: var(--fill-color);\n",
              "    }\n",
              "    30% {\n",
              "      border-color: transparent;\n",
              "      border-left-color: var(--fill-color);\n",
              "      border-top-color: var(--fill-color);\n",
              "      border-right-color: var(--fill-color);\n",
              "    }\n",
              "    40% {\n",
              "      border-color: transparent;\n",
              "      border-right-color: var(--fill-color);\n",
              "      border-top-color: var(--fill-color);\n",
              "    }\n",
              "    60% {\n",
              "      border-color: transparent;\n",
              "      border-right-color: var(--fill-color);\n",
              "    }\n",
              "    80% {\n",
              "      border-color: transparent;\n",
              "      border-right-color: var(--fill-color);\n",
              "      border-bottom-color: var(--fill-color);\n",
              "    }\n",
              "    90% {\n",
              "      border-color: transparent;\n",
              "      border-bottom-color: var(--fill-color);\n",
              "    }\n",
              "  }\n",
              "</style>\n",
              "\n",
              "  <script>\n",
              "    async function quickchart(key) {\n",
              "      const quickchartButtonEl =\n",
              "        document.querySelector('#' + key + ' button');\n",
              "      quickchartButtonEl.disabled = true;  // To prevent multiple clicks.\n",
              "      quickchartButtonEl.classList.add('colab-df-spinner');\n",
              "      try {\n",
              "        const charts = await google.colab.kernel.invokeFunction(\n",
              "            'suggestCharts', [key], {});\n",
              "      } catch (error) {\n",
              "        console.error('Error during call to suggestCharts:', error);\n",
              "      }\n",
              "      quickchartButtonEl.classList.remove('colab-df-spinner');\n",
              "      quickchartButtonEl.classList.add('colab-df-quickchart-complete');\n",
              "    }\n",
              "    (() => {\n",
              "      let quickchartButtonEl =\n",
              "        document.querySelector('#df-86950b00-3a69-40f6-a192-30c3df4e7d4e button');\n",
              "      quickchartButtonEl.style.display =\n",
              "        google.colab.kernel.accessAllowed ? 'block' : 'none';\n",
              "    })();\n",
              "  </script>\n",
              "</div>\n",
              "    </div>\n",
              "  </div>\n"
            ]
          },
          "metadata": {},
          "execution_count": 19
        }
      ]
    },
    {
      "cell_type": "code",
      "source": [
        "#module for visualization\n",
        "\n",
        "import seaborn as sns\n",
        "sns.set_theme()\n",
        "\n",
        "sns.catplot(\n",
        "    data=data, x=\"x1\", y=\"x2\", hue=\"y\", native_scale=True)\n"
      ],
      "metadata": {
        "id": "BFmZqFuy9B_l",
        "colab": {
          "base_uri": "https://localhost:8080/",
          "height": 518
        },
        "outputId": "aa55fe9a-2e64-409f-cc7f-91cbb743a5dd"
      },
      "execution_count": 12,
      "outputs": [
        {
          "output_type": "execute_result",
          "data": {
            "text/plain": [
              "<seaborn.axisgrid.FacetGrid at 0x7c5339dffd30>"
            ]
          },
          "metadata": {},
          "execution_count": 12
        },
        {
          "output_type": "display_data",
          "data": {
            "text/plain": [
              "<Figure size 564.625x500 with 1 Axes>"
            ],
            "image/png": "[encoded data removed]"
          },
          "metadata": {}
        }
      ]
    },
    {
      "cell_type": "code",
      "source": [
        "#divide dataset\n",
        "from sklearn.model_selection import train_test_split\n",
        "import numpy as np\n",
        "\n",
        "xTrain, xTest, yTrain, yTest = train_test_split(data[[x1, x2]], data[y], test_size=0.3, random_state=1)"
      ],
      "metadata": {
        "id": "tHnC_0WtbMHS"
      },
      "execution_count": 20,
      "outputs": []
    },
    {
      "cell_type": "code",
      "source": [
        "learningRate = 0.2\n",
        "nEpoch = 8\n",
        "\n",
        "yPedicted, weights = perceptrone(np.array(xTrain), np.array(yTrain), np.array(xTest), learningRate, nEpoch)\n",
        "print(\"weights: \", weights)"
      ],
      "metadata": {
        "colab": {
          "base_uri": "https://localhost:8080/"
        },
        "id": "S-VlXGvzcaV0",
        "outputId": "4fba368b-b66d-4119-f1bf-4f75a55a122b"
      },
      "execution_count": 21,
      "outputs": [
        {
          "output_type": "stream",
          "name": "stdout",
          "text": [
            "weights:  [-0.4651086450151381, 0.7593128494734104, 0.02064516320415577]\n"
          ]
        }
      ]
    },
    {
      "cell_type": "code",
      "source": [
        "from sklearn.metrics import r2_score\n",
        "dTest={x1: np.array(xTest[x1]), x2: np.array(xTest[x2]), y: np.array(yTest)}\n",
        "dfTest = pd.DataFrame(dTest, columns=[x1, x2, y])\n",
        "\n",
        "dPredicted={x1: np.array(xTest[x1]), x2: np.array(xTest[x2]), y: yPedicted}\n",
        "dfPredicted = pd.DataFrame(dTest, columns=[x1, x2, y])\n",
        "\n",
        "sns.catplot(\n",
        "    data=dTest, x=\"x1\", y=\"x2\", hue=\"y\", native_scale=True)\n",
        "\n",
        "#build line that split classes\n",
        "#for it we need two point\n",
        "out1 = 0\n",
        "out2 = 1\n",
        "in1 = -(weights[0] +weights[2]*out1)/weights[1]\n",
        "in2 = -(weights[0] +weights[2]*out2)/weights[1]\n",
        "dLine={x1: [in1, in2], x2: [out1, out2]}\n",
        "dfLine = pd.DataFrame(dLine, columns=[x1, x2])\n",
        "\n",
        "sns.lineplot(data=dfLine, x='x1', y='x2')\n",
        "\n",
        "\n",
        "from sklearn.metrics import accuracy_score\n",
        "\n",
        "print(\"accuracy_score\", accuracy_score(yTest, yPedicted))"
      ],
      "metadata": {
        "colab": {
          "base_uri": "https://localhost:8080/",
          "height": 518
        },
        "id": "bVfyAwxYeapB",
        "outputId": "34b2717e-d42f-470b-9e70-ff32eba86f90"
      },
      "execution_count": 24,
      "outputs": [
        {
          "output_type": "stream",
          "name": "stdout",
          "text": [
            "accuracy_score 0.9333333333333333\n"
          ]
        },
        {
          "output_type": "display_data",
          "data": {
            "text/plain": [
              "<Figure size 564.625x500 with 1 Axes>"
            ],
            "image/png": "[encoded data removed]"
          },
          "metadata": {}
        }
      ]
    },
    {
      "cell_type": "markdown",
      "source": [
        "**Compare the results with similar results that are obtained as a result of using built-in functions.**"
      ],
      "metadata": {
        "id": "KJZVUtwr9PbE"
      }
    },
    {
      "cell_type": "code",
      "source": [
        "# with skilearn\n",
        "from sklearn.datasets import load_digits\n",
        "from sklearn.linear_model import Perceptron\n",
        "\n",
        "model = Perceptron(eta0=0.2, max_iter=100, n_iter_no_change=8, random_state=1)\n",
        "\n",
        "model.fit(xTrain, yTrain)\n",
        "\n",
        "Perceptron()\n",
        "yPredicted2 = model.predict(xTest)\n",
        "print(model.intercept_, model.coef_)\n",
        "print(\"accuracy_score\", accuracy_score(yTest, yPredicted2))\n",
        "sns.catplot(\n",
        "    data=dTest, x=\"x1\", y=\"x2\", hue=\"y\", native_scale=True)\n",
        "\n",
        "#build line that split classes\n",
        "#for it we need two point\n",
        "out1 = 0\n",
        "out2 = 1\n",
        "in1 = -(model.intercept_[0]+model.coef_[0][1]*out1)/model.coef_[0][0]\n",
        "in2 = -(model.intercept_[0]+model.coef_[0][1]*out2)/model.coef_[0][0]\n",
        "dLine2={x1: [in1, in2], x2: [out1, out2]}\n",
        "dfLine2 = pd.DataFrame(dLine2, columns=[x1, x2])\n",
        "\n",
        "sns.lineplot(data=dfLine, x='x1', y='x2', label='mine', color='red')\n",
        "sns.lineplot(data=dfLine2, x='x1', y='x2', label='sklearn', color='green')\n"
      ],
      "metadata": {
        "id": "rnbJ1oVC9RUZ",
        "colab": {
          "base_uri": "https://localhost:8080/",
          "height": 553
        },
        "outputId": "95a67cf2-d192-4741-c3ad-7de52d03356f"
      },
      "execution_count": 25,
      "outputs": [
        {
          "output_type": "stream",
          "name": "stdout",
          "text": [
            "[-0.4] [[0.5994 0.0852]]\n",
            "accuracy_score 0.9666666666666667\n"
          ]
        },
        {
          "output_type": "execute_result",
          "data": {
            "text/plain": [
              "<Axes: xlabel='x1', ylabel='x2'>"
            ]
          },
          "metadata": {},
          "execution_count": 25
        },
        {
          "output_type": "display_data",
          "data": {
            "text/plain": [
              "<Figure size 564.625x500 with 1 Axes>"
            ],
            "image/png": "[encoded data removed]"
          },
          "metadata": {}
        }
      ]
    },
    {
      "cell_type": "markdown",
      "source": [
        "From several tests I can conclude that efficiency of algorithm implemented by me, depends on a way test data is divided. And the one from sklearn is not that sensetive."
      ],
      "metadata": {
        "id": "uuSkCKdl9SPo"
      }
    }
  ]
}